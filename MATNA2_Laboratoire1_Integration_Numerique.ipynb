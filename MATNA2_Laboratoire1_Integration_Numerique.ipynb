{
 "cells": [
  {
   "cell_type": "markdown",
   "metadata": {
    "id": "QDwRCNAP105r"
   },
   "source": [
    "## MATNA2\n",
    "\n",
    "**Laboratoire 1 - Intégration de fonctions par méthodes numériques**\n",
    "\n",
    "Professeurs : Alexandre Desfossés Foucault et Maxime Fagnan\n",
    "\n",
    "Le but de ce laboratoire est de programmer certaines méthodes d'intégration numérique et de les comparer."
   ]
  },
  {
   "cell_type": "markdown",
   "metadata": {},
   "source": [
    "**Travail de :**\n",
    "- François Legault\n",
    "- Manon Massé"
   ]
  },
  {
   "cell_type": "markdown",
   "metadata": {},
   "source": [
    "Commençons par importer certaines librairies utiles."
   ]
  },
  {
   "cell_type": "code",
   "execution_count": 1,
   "metadata": {
    "id": "ADBJqrm-0Vsw"
   },
   "outputs": [],
   "source": [
    "# Ne vous en faites pas trop avec ce que l'on importe\n",
    "import numpy as np  # librairie numérical python. On peut maintenant accéder à ces éléments avec np.élément\n",
    "import matplotlib.pyplot as plt  # nuages de points et dessins de fonctions\n",
    "import matplotlib.patches as patches # dessins de formes quelconques (comme des rectangles)"
   ]
  },
  {
   "cell_type": "markdown",
   "metadata": {
    "id": "wd19dMkp2fG5"
   },
   "source": [
    "**Méthode du rectangle à gauche**\n",
    "\n",
    "On veut calculer l'aire sous une fonction $f$  sur $[a,b]$, aussi apellé intégrer $f$ sur $[a,b]$. On divise l'intervalle en $n$ sous-intervalles de longueur $\\Delta x$ et on calcule l'aire d'un rectangle tel que sa base est de longueur $\\Delta x$ et sa hauteur est la valeur de la fonction évaluée à la borne de gauche du sous-intervalle."
   ]
  },
  {
   "cell_type": "code",
   "execution_count": 2,
   "metadata": {
    "id": "H0xLK9f210Sq"
   },
   "outputs": [],
   "source": [
    "def f(x): #fonction à intégrer\n",
    "  return x**2\n",
    "\n",
    "a=0\n",
    "b=5\n",
    "\n",
    "n = 4 # nombre de rectangles\n",
    "\n",
    "dx= (b-a)/n #largeur de chaque rectangle"
   ]
  },
  {
   "cell_type": "markdown",
   "metadata": {
    "id": "_bSjhQ-13cGn"
   },
   "source": [
    "Additionnons les aires des rectangles et visualisons."
   ]
  },
  {
   "cell_type": "code",
   "execution_count": 4,
   "metadata": {
    "colab": {
     "base_uri": "https://localhost:8080/",
     "height": 470
    },
    "id": "AeeZlNVb10U-",
    "outputId": "f470d1e0-e377-4dba-94f6-d6a3cb08c2ed"
   },
   "outputs": [
    {
     "name": "stdout",
     "output_type": "stream",
     "text": [
      "Aire totale approximative :  27.34375\n"
     ]
    },
    {
     "data": {
      "image/png": "[encoded data removed]",
      "text/plain": [
       "<Figure size 640x480 with 1 Axes>"
      ]
     },
     "metadata": {},
     "output_type": "display_data"
    }
   ],
   "source": [
    "## On commence par tracer la fonction, ne pas trop se soucier de ce code.\n",
    "x = np.linspace(a,b,100) # pour tracer la fonction. On définit une liste de 100 valeurs de x qui commence à a et finit à b\n",
    "fig,ax = plt.subplots(1)\n",
    "ax.plot(x,f(x))\n",
    "\n",
    "plt.title(\"Méthode des rectangles à gauche\")\n",
    "\n",
    "aire_totale_rectangle_gauche = 0 # on rajoutera l'aire de chaque rectangle à cette variable\n",
    "\n",
    "for i in range(0,n): #pour chaque rectangle\n",
    "    # Calcul d'aire du rectangle\n",
    "    hauteur = f(a+i*dx)  # à chaque itération on a: f(a+0*dx), f(a+1*dx), f(a+2*dx), ..., f(a+n*dx) où n est le nombre de rectangles.\n",
    "    aire_rectangle = hauteur * dx\n",
    "\n",
    "    # On ajoute chaque rectangle à l'aire totale sous la courbe.\n",
    "    aire_totale_rectangle_gauche = aire_totale_rectangle_gauche + aire_rectangle\n",
    "\n",
    "    # On dessine le rectangle (ne vous souciez pas de ce code).\n",
    "    rectangle = patches.Rectangle((a+i*dx,0),dx,hauteur, edgecolor='b', facecolor=\"r\")\n",
    "    ax.add_patch(rectangle)\n",
    "\n",
    "# Une fois sorti de la boucle on imprime l'aire totale et on fait apparaître le graphique obtenu\n",
    "print(\"Aire totale approximative : \", aire_totale_rectangle_gauche)\n",
    "plt.show()\n"
   ]
  },
  {
   "cell_type": "markdown",
   "metadata": {
    "id": "XUhtDz76AFDT"
   },
   "source": [
    "Pour pouvoir réutiliser ce code, on peut créer une fonction qui prend en entrée une fonction, les 2 bornes d'un intervalle et un nombre de rectangle et qui calcule l'aire approximative sous la courbe en utilisant la méthode du rectangle à gauche :"
   ]
  },
  {
   "cell_type": "code",
   "execution_count": null,
   "metadata": {
    "id": "gHmmuibz10Xo"
   },
   "outputs": [],
   "source": [
    "def rectangle_gauche(f,a,b,n):\n",
    "\n",
    "    dx = (b-a)/n  # longueur de l'intervalle \n",
    "\n",
    "    ## On commence par tracer la fonction, ne pas trop se soucier de ce code.\n",
    "    x = np.linspace(a,b,100) # pour tracer la fonction. On définit une liste de 100 valeurs de x qui commence à a et finit à b\n",
    "    fig,ax = plt.subplots(1)\n",
    "    ax.plot(x,f(x))\n",
    "    \n",
    "    plt.title(\"Méthode des rectangles à gauche\")\n",
    "    \n",
    "    aire_totale_rectangle_gauche = 0 # on rajoutera l'aire de chaque rectangle à cette variable\n",
    "    \n",
    "    for i in range(0,n): #pour chaque rectangle\n",
    "        # Calcul d'aire du rectangle\n",
    "        hauteur = f(a+i*dx)  # à chaque itération on a: f(a+0*dx), f(a+1*dx), f(a+2*dx), ..., f(a+n*dx) où n est le nombre de rectangles.\n",
    "        aire_rectangle = hauteur * dx\n",
    "    \n",
    "        # On ajoute chaque rectangle à l'aire totale sous la courbe.\n",
    "        aire_totale_rectangle_gauche = aire_totale_rectangle_gauche + aire_rectangle\n",
    "    \n",
    "        # On dessine le rectangle (ne vous souciez pas de ce code).\n",
    "        rectangle = patches.Rectangle((a+i*dx,0),dx,hauteur, edgecolor='b', facecolor=\"r\")\n",
    "        ax.add_patch(rectangle)\n",
    "    \n",
    "    # Une fois sorti de la boucle on imprime l'aire totale et on fait apparaître le graphique obtenu\n",
    "    print(\"Aire totale approximative : \", aire_totale_rectangle_gauche)\n",
    "    plt.show()\n",
    "    \n",
    "    return aire_totale_rectangle_gauche"
   ]
  },
  {
   "cell_type": "code",
   "execution_count": null,
   "metadata": {
    "colab": {
     "base_uri": "https://localhost:8080/",
     "height": 470
    },
    "id": "iwAqbQxSAdSv",
    "outputId": "c28cdfd7-2bab-4fdf-c96e-12318f536d83"
   },
   "outputs": [],
   "source": [
    "aire_gauche = rectangle_gauche(f,0,5,4)\n"
   ]
  },
  {
   "cell_type": "markdown",
   "metadata": {
    "id": "Ci6K39mkBD0x"
   },
   "source": [
    "### Question 1\n",
    "Modifier la fonction précédente pour plutôt utiliser la méthode du rectangle à droite dans le code suivant."
   ]
  },
  {
   "cell_type": "code",
   "execution_count": null,
   "metadata": {
    "colab": {
     "base_uri": "https://localhost:8080/",
     "height": 470
    },
    "id": "UUqADY5gBI-v",
    "outputId": "0a8222c5-3e92-496a-b8a3-1d35bb0a5dcd"
   },
   "outputs": [],
   "source": [
    "def rectangle_droite(f,a,b,n):\n",
    "\n",
    "    #Copiez collez le code de la de la fonction rectangle_gauche et faire les modifications appropriées.\n",
    "    \n",
    "    return aire_totale_rectangle_droite\n",
    "    \n",
    "aire = rectangle_droite(f,0,1,16)"
   ]
  },
  {
   "cell_type": "markdown",
   "metadata": {
    "id": "yDJQRrvzBJUj"
   },
   "source": [
    "### Question 2\n",
    "\n",
    "Définissez une fonction qui approxime l'aire en utilisant la méthode du point-milieu."
   ]
  },
  {
   "cell_type": "code",
   "execution_count": null,
   "metadata": {
    "id": "7oXOKtORBRJc"
   },
   "outputs": [],
   "source": [
    "def rectangle_milieu(f,a,b,n):\n",
    "\n",
    "    #Copiez collez le code de la de la fonction rectangle_gauche ou rectangle_droite et faire les modifications appropriées.\n",
    "\n",
    "    return aire_totale_rectangle_milieu"
   ]
  },
  {
   "cell_type": "code",
   "execution_count": null,
   "metadata": {
    "colab": {
     "base_uri": "https://localhost:8080/",
     "height": 470
    },
    "id": "6dJL25NfhEUM",
    "outputId": "28ab3f3a-f68d-497d-acdd-56958aed2914"
   },
   "outputs": [],
   "source": [
    "aire_milieu = rectangle_milieu(f,0,1,4)"
   ]
  },
  {
   "cell_type": "markdown",
   "metadata": {
    "id": "dymyst0PBRa8"
   },
   "source": [
    "### Question 3\n",
    "\n",
    "1. Pour la méthode du rectangle à gauche et la méthode du point milieu, estimez l'aire sous la courbe de $g(x)=x^3$ pour x entre 0 et 1 pour 5, puis 10, puis 20 rectangles.\n",
    "\n",
    "   <span style=\"color: red\"> Vous n'avez qu'à exécuter roulant la cellule de code ci-bas</span>.\n",
    "   \n",
    "2.  Comparez les estimations à la valeur exacte (0.25).\n",
    "\n",
    "    <span style=\"color: red\"> Le faire dans votre tête est suffisant</span>.\n",
    "    \n",
    "3.  Quelle méthode est la plus précise? Est-ce qu'on se rapproche de la valeur véritable en ajoutant des rectangles?\n",
    "\n",
    "    <span style=\"color: red\"> Votre réponse ici.</span>\n",
    "\n",
    "**Pour les plus courageux (question pas évaluée) :** faites un graphique de l'erreur en fonction du nombre de rectangles pour chaque méthode.\n",
    "\n",
    "**Pour s'amuser encore plus (autre question pas évaluée) :** programmez la méthode des trapèzes (au lieu de séparer l'aire sous la courbe avec des rectangles, on la sépare en trapèzes). Est-ce que cette méthode est plus précise?\n",
    "\n"
   ]
  },
  {
   "cell_type": "code",
   "execution_count": null,
   "metadata": {
    "colab": {
     "base_uri": "https://localhost:8080/",
     "height": 1000
    },
    "id": "EDO8s_dwiVug",
    "outputId": "e5dc1d0a-245f-4a7e-e5fd-abdf64bb30b5"
   },
   "outputs": [],
   "source": [
    "def g(x):\n",
    "  return x**3\n",
    "\n",
    "valeur_exacte = 0.25\n",
    "\n",
    "milieu_erreur_5 = rectangle_milieu(g,0,1,5) -valeur_exacte\n",
    "milieu_erreur_10 = rectangle_milieu(g,0,1,10) - valeur_exacte\n",
    "milieu_erreur_20 = rectangle_milieu(g,0,1,20) - valeur_exacte\n",
    "\n",
    "\n",
    "gauche_erreur_5 = rectangle_gauche(g,0,1,5) -valeur_exacte\n",
    "gauche_erreur_10 = rectangle_gauche(g,0,1,10) - valeur_exacte\n",
    "gauche_erreur_20 = rectangle_gauche(g,0,1,20) - valeur_exacte\n",
    "\n",
    "print(\"Méthode du point milieu\")\n",
    "print(\"Nombre de rectangles : \",5,\",    erreur : \",milieu_erreur_5)\n",
    "print(\"Nombre de rectangles : \",10,\",    erreur : \",milieu_erreur_10)\n",
    "print(\"Nombre de rectangles : \",20,\",    erreur : \",milieu_erreur_20)\n",
    "\n",
    "print(\"Méthode des rectabgles à gauche\")\n",
    "print(\"Nombre de rectangles : \",5,\",    erreur : \",gauche_erreur_5)\n",
    "print(\"Nombre de rectangles : \",10,\",    erreur : \",gauche_erreur_10)\n",
    "print(\"Nombre de rectangles : \",20,\",    erreur : \",gauche_erreur_20)\n"
   ]
  }
 ],
 "metadata": {
  "colab": {
   "provenance": []
  },
  "kernelspec": {
   "display_name": "Python 3 (ipykernel)",
   "language": "python",
   "name": "python3"
  },
  "language_info": {
   "codemirror_mode": {
    "name": "ipython",
    "version": 3
   },
   "file_extension": ".py",
   "mimetype": "text/x-python",
   "name": "python",
   "nbconvert_exporter": "python",
   "pygments_lexer": "ipython3",
   "version": "3.11.5"
  }
 },
 "nbformat": 4,
 "nbformat_minor": 4
}
